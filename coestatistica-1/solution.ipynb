{
 "cells": [
  {
   "cell_type": "markdown",
   "metadata": {},
   "source": [
    "# Desafio semana 3"
   ]
  },
  {
   "cell_type": "code",
   "execution_count": 1,
   "metadata": {},
   "outputs": [],
   "source": [
    "import pandas as pd\n",
    "import numpy as np"
   ]
  },
  {
   "cell_type": "code",
   "execution_count": 2,
   "metadata": {},
   "outputs": [],
   "source": [
    "df = pd.read_csv('desafio1.csv')"
   ]
  },
  {
   "cell_type": "code",
   "execution_count": 15,
   "metadata": {},
   "outputs": [
    {
     "output_type": "execute_result",
     "data": {
      "text/plain": "'{\"PR\":{\"moda\":850.0,\"mediana\":650.0,\"media\":648.9612940497,\"desvio_padrao\":98.6071859131},\"RS\":{\"moda\":850.0,\"mediana\":650.0,\"media\":651.1051428571,\"desvio_padrao\":95.1365984138},\"SC\":{\"moda\":850.0,\"mediana\":653.0,\"media\":649.5376527423,\"desvio_padrao\":97.2334927934}}'"
     },
     "metadata": {},
     "execution_count": 15
    }
   ],
   "source": [
    "res = df.groupby(['estado_residencia'])['pontuacao_credito'].agg([pd.Series.mode,'median','mean','std']).T\n",
    "res.index = ['moda','mediana','media','desvio_padrao']\n",
    "res.to_json()"
   ]
  }
 ],
 "metadata": {
  "language_info": {
   "codemirror_mode": {
    "name": "ipython",
    "version": 3
   },
   "file_extension": ".py",
   "mimetype": "text/x-python",
   "name": "python",
   "nbconvert_exporter": "python",
   "pygments_lexer": "ipython3",
   "version": "3.7.7-final"
  },
  "orig_nbformat": 2,
  "kernelspec": {
   "name": "python37764bitcodenationconda0f51b0dcda0a412ebf4ab13c615a2d15",
   "display_name": "Python 3.7.7 64-bit ('codenation': conda)"
  }
 },
 "nbformat": 4,
 "nbformat_minor": 2
}